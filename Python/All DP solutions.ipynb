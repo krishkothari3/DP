{
 "cells": [
  {
   "cell_type": "markdown",
   "id": "0130f5dc",
   "metadata": {},
   "source": [
    "### 12/05/2024 :- Selection Sort"
   ]
  },
  {
   "cell_type": "code",
   "execution_count": 1,
   "id": "c0a94410",
   "metadata": {},
   "outputs": [],
   "source": [
    "def selectionSort(demoList):\n",
    "    sizeOfdemoList = len(demoList)\n",
    "    for i in range(sizeOfdemoList):\n",
    "        minimumIndex = i\n",
    "        for j in range(i+1,sizeOfdemoList):\n",
    "            if demoList[minimumIndex] > demoList[j]:\n",
    "                minimumIndex = j\n",
    "        demoList[minimumIndex],demoList[i] = demoList[i],demoList[minimumIndex]\n",
    "    return demoList"
   ]
  },
  {
   "cell_type": "code",
   "execution_count": 2,
   "id": "5231ba4f",
   "metadata": {},
   "outputs": [
    {
     "name": "stdout",
     "output_type": "stream",
     "text": [
      "[9, 13, 20, 24, 46, 52]\n"
     ]
    }
   ],
   "source": [
    "print(selectionSort([13,46,24,52,20,9]))"
   ]
  },
  {
   "cell_type": "markdown",
   "id": "347c01cc",
   "metadata": {},
   "source": [
    "### 13/05/2024 :- Reverse the array"
   ]
  },
  {
   "cell_type": "code",
   "execution_count": 3,
   "id": "a3ecccac",
   "metadata": {},
   "outputs": [],
   "source": [
    "def reverseTheGivenArray(demoList2):\n",
    "    demoList3 = []\n",
    "    for i in demoList2[::-1]:\n",
    "        demoList3.append(i)\n",
    "    return demoList3"
   ]
  },
  {
   "cell_type": "code",
   "execution_count": 4,
   "id": "955aeec7",
   "metadata": {},
   "outputs": [
    {
     "name": "stdout",
     "output_type": "stream",
     "text": [
      "[1, 2, 3, 4, 5]\n"
     ]
    }
   ],
   "source": [
    "print(reverseTheGivenArray([5,4,3,2,1]))"
   ]
  },
  {
   "cell_type": "markdown",
   "id": "9e9c0266",
   "metadata": {},
   "source": [
    "### 14/05/2024  :- Bubble Sort"
   ]
  },
  {
   "cell_type": "code",
   "execution_count": 7,
   "id": "b0cfc597",
   "metadata": {},
   "outputs": [],
   "source": [
    "def bubbleSort(demoList4):\n",
    "    sizeOfdemoList4 = len(demoList4)\n",
    "    isChanged = True\n",
    "    while isChanged:\n",
    "        isChanged = False\n",
    "        for i in range(sizeOfdemoList4 - 1):\n",
    "            if demoList4[i] > demoList4[i+1]:\n",
    "                demoList4[i],demoList4[i+1] = demoList4[i+1],demoList4[i]\n",
    "                isChanged = True\n",
    "    return demoList4"
   ]
  },
  {
   "cell_type": "code",
   "execution_count": 8,
   "id": "b1b89014",
   "metadata": {},
   "outputs": [
    {
     "data": {
      "text/plain": [
       "[9, 13, 20, 24, 46, 52]"
      ]
     },
     "execution_count": 8,
     "metadata": {},
     "output_type": "execute_result"
    }
   ],
   "source": [
    "bubbleSort([13,46,24,52,20,9])"
   ]
  },
  {
   "cell_type": "markdown",
   "id": "38b2154d",
   "metadata": {},
   "source": [
    "### 15/05/2024 :- Selection Sort"
   ]
  },
  {
   "cell_type": "code",
   "execution_count": 13,
   "id": "d00dd679",
   "metadata": {},
   "outputs": [],
   "source": [
    "def selectionSort(demoList5):\n",
    "    for i in range(1,len(demoList5)):\n",
    "        target = demoList5[i]\n",
    "        while target < demoList5[i-1] and i > 0:\n",
    "            demoList5[i],demoList5[i-1] = demoList5[i-1],demoList5[i]\n",
    "            i -= 1\n",
    "    return demoList5"
   ]
  },
  {
   "cell_type": "code",
   "execution_count": 14,
   "id": "93a77ecf",
   "metadata": {},
   "outputs": [
    {
     "data": {
      "text/plain": [
       "[9, 13, 20, 24, 46, 52]"
      ]
     },
     "execution_count": 14,
     "metadata": {},
     "output_type": "execute_result"
    }
   ],
   "source": [
    "selectionSort([13,46,24,52,20,9])"
   ]
  },
  {
   "cell_type": "markdown",
   "id": "3539f2a0",
   "metadata": {},
   "source": [
    "### 16/05/2024 :- Pascal's triangle"
   ]
  },
  {
   "cell_type": "code",
   "execution_count": 15,
   "id": "4adf9a8e",
   "metadata": {},
   "outputs": [],
   "source": [
    "def factorial(n):\n",
    "    if n == 0 or n == 1:\n",
    "        return n\n",
    "    else:\n",
    "        return n * factorial(n-1)"
   ]
  },
  {
   "cell_type": "code",
   "execution_count": 16,
   "id": "78665542",
   "metadata": {},
   "outputs": [
    {
     "name": "stdout",
     "output_type": "stream",
     "text": [
      "The value in the pascal triangle at 4 the row and 2 column is: 6.0\n"
     ]
    }
   ],
   "source": [
    "r = 4\n",
    "c = 2\n",
    "print(\"The value in the pascal triangle at {} the row and {} column is: \".format(r,c),end=\"\")\n",
    "print(factorial(r) / (factorial(r-c) * factorial(c)))"
   ]
  },
  {
   "cell_type": "markdown",
   "id": "f5b3ff60",
   "metadata": {},
   "source": [
    "### 17/05/2024 :- Elements more than N/3 times"
   ]
  },
  {
   "cell_type": "code",
   "execution_count": 17,
   "id": "326c2028",
   "metadata": {},
   "outputs": [],
   "source": [
    "def elementsMoreThan3Times(demoList6):\n",
    "    sizeOfdemoList6 = len(demoList6)\n",
    "    demoList7 = []\n",
    "    for i in demoList6:\n",
    "        if demoList6.count(i) >= int(sizeOfdemoList6 / 3) + 1 and i not in demoList7:\n",
    "            demoList7.append(i)\n",
    "        if len(demoList7) == 2:\n",
    "            return demoList7\n",
    "    return demoList7"
   ]
  },
  {
   "cell_type": "code",
   "execution_count": 18,
   "id": "5c39a414",
   "metadata": {},
   "outputs": [
    {
     "data": {
      "text/plain": [
       "[1]"
      ]
     },
     "execution_count": 18,
     "metadata": {},
     "output_type": "execute_result"
    }
   ],
   "source": [
    "elementsMoreThan3Times([1,3,4,5,1,1])"
   ]
  },
  {
   "cell_type": "markdown",
   "id": "d50ad2c4",
   "metadata": {},
   "source": [
    "### 18/05/2024 :- Pattern"
   ]
  },
  {
   "cell_type": "code",
   "execution_count": 19,
   "id": "3aff511e",
   "metadata": {},
   "outputs": [
    {
     "name": "stdout",
     "output_type": "stream",
     "text": [
      "1      1\n",
      "12    21\n",
      "123  321\n",
      "12344321\n"
     ]
    }
   ],
   "source": [
    "n = 4\n",
    "for i in range(1,n + 1):\n",
    "    for j in range(1,i+1):\n",
    "        print(j,end=\"\")\n",
    "    for j in range((n * 2) - ((i)*2)):\n",
    "        print(\" \",end=\"\")\n",
    "    for j in range(i,0,-1):\n",
    "        print(j,end=\"\")\n",
    "    print()"
   ]
  },
  {
   "cell_type": "markdown",
   "id": "fa312908",
   "metadata": {},
   "source": [
    "### 19/05/2024 :- Ladder"
   ]
  },
  {
   "cell_type": "code",
   "execution_count": 20,
   "id": "ddf58cc9",
   "metadata": {},
   "outputs": [],
   "source": [
    "def printTheLadders(demoList8):\n",
    "    for i,j in enumerate(demoList8):\n",
    "        if j == max(demoList8[i:]):\n",
    "            print(j)\n"
   ]
  },
  {
   "cell_type": "code",
   "execution_count": 21,
   "id": "cc046993",
   "metadata": {},
   "outputs": [
    {
     "name": "stdout",
     "output_type": "stream",
     "text": [
      "52\n",
      "20\n",
      "9\n"
     ]
    }
   ],
   "source": [
    "printTheLadders([13,46,24,52,20,9])"
   ]
  },
  {
   "cell_type": "markdown",
   "id": "2ab5efce",
   "metadata": {},
   "source": [
    "### 20/05/2024 :- Reverse Link List"
   ]
  },
  {
   "cell_type": "code",
   "execution_count": 22,
   "id": "ab34196a",
   "metadata": {},
   "outputs": [],
   "source": [
    "class ListNode(object):\n",
    "    def __init__(self, val=0, next=None):\n",
    "        self.val = val\n",
    "        self.next = next\n",
    "class Solution(object):\n",
    "    def reverseList(self, head):\n",
    "        ans = None\n",
    "        current = head\n",
    "        while current:\n",
    "            demo = current.next\n",
    "            current.next = ans\n",
    "            ans = current\n",
    "            current = demo\n",
    "        return ans"
   ]
  },
  {
   "cell_type": "markdown",
   "id": "69b1ad84",
   "metadata": {},
   "source": [
    "### 21/05/2024 :- Reverse words of the string "
   ]
  },
  {
   "cell_type": "code",
   "execution_count": 1,
   "id": "1a4c9b42",
   "metadata": {},
   "outputs": [],
   "source": [
    "def reverseTheWordsInString(demoString):\n",
    "    return \" \".join(demoString.split(\" \")[::-1])"
   ]
  },
  {
   "cell_type": "code",
   "execution_count": 2,
   "id": "86b988aa",
   "metadata": {},
   "outputs": [
    {
     "data": {
      "text/plain": [
       "'program amazing an is this'"
      ]
     },
     "execution_count": 2,
     "metadata": {},
     "output_type": "execute_result"
    }
   ],
   "source": [
    "reverseTheWordsInString(\"this is an amazing program\")"
   ]
  },
  {
   "cell_type": "markdown",
   "id": "57aafffb",
   "metadata": {},
   "source": [
    "### 22/05/2024 :- Palindrome"
   ]
  },
  {
   "cell_type": "code",
   "execution_count": 14,
   "id": "2296e928",
   "metadata": {},
   "outputs": [],
   "source": [
    "def checkPalindrome(demoString2):\n",
    "    demoString3 = \"\".join(i.lower() for i in demoString2 if i.isalnum())\n",
    "    print(demoString3)\n",
    "    return demoString3 == demoString3[::-1]"
   ]
  },
  {
   "cell_type": "code",
   "execution_count": 17,
   "id": "90f37a37",
   "metadata": {},
   "outputs": [
    {
     "name": "stdout",
     "output_type": "stream",
     "text": [
      "amanaplanacanalpanama\n"
     ]
    },
    {
     "data": {
      "text/plain": [
       "True"
      ]
     },
     "execution_count": 17,
     "metadata": {},
     "output_type": "execute_result"
    }
   ],
   "source": [
    "checkPalindrome(\"a man, a plan, a canal: Panama\")"
   ]
  },
  {
   "cell_type": "markdown",
   "id": "9a3a8cbd",
   "metadata": {},
   "source": [
    "### 23/05/2024 :- Kth Largest element"
   ]
  },
  {
   "cell_type": "code",
   "execution_count": 18,
   "id": "5d78c1d0",
   "metadata": {},
   "outputs": [],
   "source": [
    "def findKthLargestElement(demoList9,k):\n",
    "    demoList9.sort()\n",
    "    return demoList9[len(demoList9) - k]"
   ]
  },
  {
   "cell_type": "code",
   "execution_count": 21,
   "id": "d2178819",
   "metadata": {},
   "outputs": [
    {
     "data": {
      "text/plain": [
       "5"
      ]
     },
     "execution_count": 21,
     "metadata": {},
     "output_type": "execute_result"
    }
   ],
   "source": [
    "findKthLargestElement([3,2,1,5,6,4],2)"
   ]
  },
  {
   "cell_type": "markdown",
   "id": "98a887ab",
   "metadata": {},
   "source": [
    "### 24/05/2024 :- Cycle in Link List"
   ]
  },
  {
   "cell_type": "code",
   "execution_count": 1,
   "id": "c2936016",
   "metadata": {},
   "outputs": [],
   "source": [
    "class ListNode(object):\n",
    "    def __init__(self, val=0, next=None):\n",
    "        self.val = val\n",
    "        self.next = next\n",
    "class Solution(object):\n",
    "    def reverseList(self, head):\n",
    "        if head is None:\n",
    "            return False\n",
    "        slow = head\n",
    "        fast = head.next\n",
    "        while slow != fast:\n",
    "            if fast is None or fast.next is None:\n",
    "                return False\n",
    "            slow = slow.next\n",
    "            fast = fast.next.next\n",
    "        return True"
   ]
  },
  {
   "cell_type": "markdown",
   "id": "f4cb75fa",
   "metadata": {},
   "source": [
    "### 25/05/2024 :- Median of two sorted array"
   ]
  },
  {
   "cell_type": "code",
   "execution_count": 8,
   "id": "4fb48653",
   "metadata": {},
   "outputs": [
    {
     "name": "stdout",
     "output_type": "stream",
     "text": [
      "[1, 2, 3]\n",
      "2\n"
     ]
    }
   ],
   "source": [
    "def mergeArrays(array1,array2):\n",
    "    i,j = 0,0\n",
    "    demoList10 = []\n",
    "    while i < len(array1) and j < len(array2):\n",
    "        if array1[i] <= array2[j]:\n",
    "            demoList10.append(array1[i])\n",
    "            i += 1\n",
    "        else:\n",
    "            demoList10.append(array2[j])\n",
    "            j += 1\n",
    "    while i < len(array1):\n",
    "        demoList10.append(array1[i])\n",
    "        i += 1\n",
    "    while j < len(array2): \n",
    "        demoList10.append(array2[j])\n",
    "        j += 1\n",
    "    return demoList10\n",
    "\n",
    "\n",
    "demoList11 = mergeArrays([1,3],[2])\n",
    "n = len(demoList11)\n",
    "print(demoList11)\n",
    "if n % 2 == 0:\n",
    "    print((demoList11[int(n/2-1)] + demoList11[int(n/2)])/2)\n",
    "else: \n",
    "    print(demoList11[int(n/2)])"
   ]
  },
  {
   "cell_type": "markdown",
   "id": "c15aeda3",
   "metadata": {},
   "source": [
    "### 26/05/2024 :- Remove all instances"
   ]
  },
  {
   "cell_type": "code",
   "execution_count": 14,
   "id": "565faa87",
   "metadata": {},
   "outputs": [
    {
     "data": {
      "text/plain": [
       "2"
      ]
     },
     "execution_count": 14,
     "metadata": {},
     "output_type": "execute_result"
    }
   ],
   "source": [
    "demoList12 = [3,2,2,3]\n",
    "demoCount = demoList12.count(3)\n",
    "for i in range(demoCount): \n",
    "    demoList12.remove(3)\n",
    "len(demoList12)"
   ]
  },
  {
   "cell_type": "code",
   "execution_count": null,
   "id": "bede8a9a",
   "metadata": {},
   "outputs": [],
   "source": []
  }
 ],
 "metadata": {
  "kernelspec": {
   "display_name": "Python 3 (ipykernel)",
   "language": "python",
   "name": "python3"
  },
  "language_info": {
   "codemirror_mode": {
    "name": "ipython",
    "version": 3
   },
   "file_extension": ".py",
   "mimetype": "text/x-python",
   "name": "python",
   "nbconvert_exporter": "python",
   "pygments_lexer": "ipython3",
   "version": "3.11.5"
  }
 },
 "nbformat": 4,
 "nbformat_minor": 5
}
